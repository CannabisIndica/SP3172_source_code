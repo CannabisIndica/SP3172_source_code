{
 "cells": [
  {
   "cell_type": "markdown",
   "metadata": {},
   "source": [
    "# This file contains code to set up the entire postgresQL for our training data"
   ]
  },
  {
   "cell_type": "markdown",
   "metadata": {},
   "source": [
    "## 1. Dependencies"
   ]
  },
  {
   "cell_type": "code",
   "execution_count": 2,
   "metadata": {},
   "outputs": [],
   "source": [
    "import re\n",
    "import psycopg2\n",
    "from Raj_Database_credentials import db_host,db_password,db_port,db_user"
   ]
  },
  {
   "cell_type": "markdown",
   "metadata": {},
   "source": [
    "## 2. Database creation"
   ]
  },
  {
   "cell_type": "code",
   "execution_count": 3,
   "metadata": {},
   "outputs": [
    {
     "name": "stdout",
     "output_type": "stream",
     "text": [
      "Table Ephemeris has been created.\n"
     ]
    }
   ],
   "source": [
    "# Create connection\n",
    "conn = psycopg2.connect(\n",
    "    host=db_host,\n",
    "    dbname=\"Starlink Training Data\",\n",
    "    user=db_user,\n",
    "    password=db_password,\n",
    "    port=db_port\n",
    ")\n",
    "\n",
    "cur = conn.cursor()\n",
    "\n",
    "# Create table\n",
    "cur.execute(\"\"\"\n",
    "CREATE TABLE IF NOT EXISTS Ephemeris (\n",
    "    id SERIAL PRIMARY KEY,\n",
    "    NORAD_ID VARCHAR(50),\n",
    "    NAME VARCHAR(255),\n",
    "    DATETIME TIMESTAMP,\n",
    "    POS_X DOUBLE PRECISION,\n",
    "    POS_Y DOUBLE PRECISION,\n",
    "    POS_Z DOUBLE PRECISION,\n",
    "    VEL_X DOUBLE PRECISION,\n",
    "    VEL_Y DOUBLE PRECISION,\n",
    "    VEL_Z DOUBLE PRECISION\n",
    ");\n",
    "\"\"\")\n",
    "\n",
    "conn.commit()\n",
    "\n",
    "cur.close()\n",
    "conn.close()\n",
    "\n",
    "print(\"Table Ephemeris has been created.\")"
   ]
  }
 ],
 "metadata": {
  "kernelspec": {
   "display_name": ".venv",
   "language": "python",
   "name": "python3"
  },
  "language_info": {
   "codemirror_mode": {
    "name": "ipython",
    "version": 3
   },
   "file_extension": ".py",
   "mimetype": "text/x-python",
   "name": "python",
   "nbconvert_exporter": "python",
   "pygments_lexer": "ipython3",
   "version": "3.13.2"
  }
 },
 "nbformat": 4,
 "nbformat_minor": 2
}
