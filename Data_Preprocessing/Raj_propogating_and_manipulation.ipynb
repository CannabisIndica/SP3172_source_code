{
 "cells": [
  {
   "cell_type": "markdown",
   "metadata": {},
   "source": [
    "# This file is to propogate the original TLE data to the ephemeris epochs to be used for model training. This file will also create the final dataframe used to train the model"
   ]
  },
  {
   "cell_type": "markdown",
   "metadata": {},
   "source": [
    "# Dependencies"
   ]
  },
  {
   "cell_type": "code",
   "execution_count": null,
   "metadata": {},
   "outputs": [],
   "source": [
    "import torch"
   ]
  },
  {
   "cell_type": "markdown",
   "metadata": {},
   "source": [
    "# 1. Gather all ephemeris epochs\n",
    "\n",
    "Ephemeris epoch is the time at which an emepheris data point has been measured. For each TLE from each satellite, the TLE will be propogated using dsgp4 to all ephemeris epochs for that given satellite. To do this we will calculate the difference between the ephemeris epoch and the epoch of when the TLE was measured. We will convert this value to minutes as dsgp4 propogates in minutes. This time delta in minutes will be the amount of time for which we will propogate the TLE."
   ]
  },
  {
   "cell_type": "code",
   "execution_count": null,
   "metadata": {},
   "outputs": [],
   "source": []
  }
 ],
 "metadata": {
  "kernelspec": {
   "display_name": ".venv",
   "language": "python",
   "name": "python3"
  },
  "language_info": {
   "name": "python",
   "version": "3.13.2"
  }
 },
 "nbformat": 4,
 "nbformat_minor": 2
}
